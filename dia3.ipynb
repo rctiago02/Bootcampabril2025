{
 "cells": [
  {
   "cell_type": "code",
   "execution_count": 2,
   "id": "a05d64a9",
   "metadata": {},
   "outputs": [
    {
     "name": "stdout",
     "output_type": "stream",
     "text": [
      "Hola Mundo!\n"
     ]
    }
   ],
   "source": [
    "def imprimir_saludo():\n",
    "    print(\"Hola Mundo!\")\n",
    "\n",
    "imprimir_saludo()"
   ]
  },
  {
   "cell_type": "code",
   "execution_count": null,
   "id": "4b6c61c5",
   "metadata": {},
   "outputs": [
    {
     "name": "stdout",
     "output_type": "stream",
     "text": [
      "Jimena\n"
     ]
    }
   ],
   "source": [
    "# Funcion imprimir la palabra, es mejor que la variable con el input este adentro de la funcion.\n",
    "\n",
    "def imprimir_palabra():\n",
    "    palabra = input(\"ingrese una palabra\")\n",
    "    print(palabra)\n",
    "\n",
    "imprimir_palabra()"
   ]
  },
  {
   "cell_type": "code",
   "execution_count": 17,
   "id": "35681449",
   "metadata": {},
   "outputs": [
    {
     "name": "stdout",
     "output_type": "stream",
     "text": [
      "6\n"
     ]
    }
   ],
   "source": [
    "def sumar_numeros(numero1, numero2):\n",
    "    suma = numero1 + numero2\n",
    "    print(suma)\n",
    "\n",
    "sumar_numeros(4, 2)"
   ]
  },
  {
   "cell_type": "code",
   "execution_count": null,
   "id": "7bf7afcb",
   "metadata": {},
   "outputs": [
    {
     "name": "stdout",
     "output_type": "stream",
     "text": [
      "las letras son diferentes\n",
      "Las letras son iguales\n"
     ]
    }
   ],
   "source": [
    "# Definimos la funcion 2 parametros,  \n",
    "def letras_iguales(letra1, letra2):\n",
    "    # letra1 y letra2 son variables fuera del parametro, si son iguales no importa\n",
    "    if letra1 == letra2: \n",
    "        print(\"Las letras son iguales\")\n",
    "    else:\n",
    "        print(\"las letras son diferentes\")\n",
    "\n",
    "# Definimos los parametros dentro del parentesis para la funcion\n",
    "letras_iguales(\"a\", \"b\") \n",
    "\n",
    "# Pedimos la variable, para los parametros de la funcion\n",
    "letras_iguales(input(\"Ingresa primera letra\"), input(\"Ingresa segunda letra\"))\n"
   ]
  },
  {
   "cell_type": "code",
   "execution_count": 43,
   "id": "df2f18ec",
   "metadata": {},
   "outputs": [
    {
     "name": "stdout",
     "output_type": "stream",
     "text": [
      "las letras son diferentes\n",
      "Las letras son iguales\n"
     ]
    }
   ],
   "source": [
    "# Definimos la funcion 2 parametros,  \n",
    "def letras_iguales(letra1, letra2):\n",
    "    # letra1 y letra2 son variables fuera del parametro, si son iguales no importa\n",
    "    if letra1 == letra2: \n",
    "        print(\"Las letras son iguales\")\n",
    "    else:\n",
    "        print(\"las letras son diferentes\")\n",
    "\n",
    "# Definimos los parametros dentro del parentesis para la funcion\n",
    "letras_iguales(\"a\", \"b\") \n",
    "\n",
    "# Definimos la variable fuera de la funcion para que sea una varible local\n",
    "primera_letra = input(\"Ingresa primera letra\")\n",
    "segunda_letra = input(\"input segunda letra\")\n",
    "\n",
    "# Llamamos a la funcion con las variable para los parametros\n",
    "letras_iguales(primera_letra, segunda_letra)"
   ]
  },
  {
   "cell_type": "markdown",
   "id": "ebd1310c",
   "metadata": {},
   "source": [
    "# Challenge 3"
   ]
  },
  {
   "cell_type": "code",
   "execution_count": null,
   "id": "bf7cfcc6",
   "metadata": {},
   "outputs": [
    {
     "name": "stdout",
     "output_type": "stream",
     "text": [
      "True\n"
     ]
    }
   ],
   "source": [
    "# definimos las variables\n",
    "# en la variable numero tiene que ser numero entero\n",
    "palabra_1 = input(\"ingrese una palabra\")\n",
    "numero = int(input(\"ingrese un numero\"))\n",
    "\n",
    "# Comenzamos la funcion \n",
    "def cantidad_letras(palabra, numero):\n",
    "\n",
    "    # definimos una variable con numeros usando len en la variable palabra\n",
    "    cant_letras = len(palabra)\n",
    "\n",
    "    # Agregamos una condicional \"if\"\n",
    "    if cant_letras == numero:\n",
    "        return True\n",
    "    else:\n",
    "        return False\n",
    "\n",
    "# Returna True o false no imprime, agradezco a jupiter!\n",
    "cantidad_letras(palabra_1, numero)\n",
    "\n"
   ]
  },
  {
   "cell_type": "code",
   "execution_count": null,
   "id": "46562156",
   "metadata": {},
   "outputs": [
    {
     "name": "stdout",
     "output_type": "stream",
     "text": [
      "True\n"
     ]
    }
   ],
   "source": [
    "# definimos las variables\n",
    "# en la variable numero tiene que ser numero entero\n",
    "palabra_1 = input(\"ingrese una palabra\")\n",
    "numero = int(input(\"ingrese un numero\"))\n",
    "\n",
    "# Comenzamos la funcion \n",
    "def cantidad_letras(palabra, numero):\n",
    "\n",
    "    # definimos una variable con numeros usando len en la variable palabra\n",
    "    cant_letras = len(palabra)\n",
    "\n",
    "    # Agregamos una condicional \"if\"\n",
    "    if cant_letras == numero:\n",
    "        return True\n",
    "    else:\n",
    "        return False\n",
    "\n",
    "# retorna la funcion no imprimeeeeeeeee!!!!\n",
    "cantidad_letras(palabra_1, numero)\n",
    "\n",
    "# Defino la variable resultado llamando a la funcion\n",
    "resultado = cantidad_letras(palabra_1, numero)\n",
    "\n",
    "# imprimo la variable true o false\n",
    "print(resultado)\n"
   ]
  },
  {
   "cell_type": "code",
   "execution_count": null,
   "id": "974f6a1a",
   "metadata": {},
   "outputs": [],
   "source": [
    "# definimos las variables\n",
    "# en la variable numero tiene que ser numero entero\n",
    "palabra_1 = input(\"ingrese una palabra\")\n",
    "numero = int(input(\"ingrese un numero\"))\n",
    "\n",
    "# Comenzamos la funcion \n",
    "def cantidad_letras(palabra, numero):\n",
    "\n",
    "    # definimos una variable con numeros usando len en la variable palabra\n",
    "    cant_letras = len(palabra)\n",
    "\n",
    "    # Agregamos una condicional \"if\"\n",
    "    if cant_letras == numero:\n",
    "        return True\n",
    "    else:\n",
    "        return False\n",
    "\n",
    "# Defino la variable resultado llamando a la funcion\n",
    "resultado = cantidad_letras(palabra_1, numero)\n",
    "\n",
    "# imprimo la variable true o false\n",
    "print(resultado)"
   ]
  },
  {
   "cell_type": "markdown",
   "id": "deb493bc",
   "metadata": {},
   "source": [
    "# Challenge 4"
   ]
  },
  {
   "cell_type": "code",
   "execution_count": null,
   "id": "0b7ad1c3",
   "metadata": {},
   "outputs": [
    {
     "name": "stdout",
     "output_type": "stream",
     "text": [
      "['h', 'o', 'e', 'a']\n",
      "(['h', 'o', 'e', 'a'], ['l', 'i', 't', 's', 'a'])\n",
      "((['h', 'o', 'e', 'a'], ['l', 'i', 't', 's', 'a']), ['m', 'i', 'c', 'h', 'a', 'e', 'l'])\n"
     ]
    }
   ],
   "source": [
    "# pedir al usuario una palabra y convertir los caracteres en una lista\n",
    "letras_palabra_1 = list(input(\"ingresa 1 palabra\"))\n",
    "\n",
    "# agregar la lista de caracteres de la primera palabra a una lista de listas de palabras\n",
    "lista_de_listas = list(letras_palabra_1)\n",
    "\n",
    "# imprimir la lista de palabras\n",
    "print(lista_de_listas)\n",
    "\n",
    "letras_palabra_2 = list(input(\"ingreasa la 2da palabra\"))\n",
    "lista_de_listas = lista_de_listas, letras_palabra_2\n",
    "print(lista_de_listas)\n",
    "\n",
    "letras_palabra_3 = list(input(\"ingrese la tercera palabra\"))\n",
    "lista_de_listas = lista_de_listas, letras_palabra_3\n",
    "print(lista_de_listas)\n",
    "\n",
    "\n"
   ]
  },
  {
   "cell_type": "markdown",
   "id": "57b8bc57",
   "metadata": {},
   "source": [
    "# challenge 5\n",
    "\n",
    "lista = [[\"h\", \"o\", \"l\", \"i\", \"s\"], [\"h\", \"e\", \"l\", \"l\", \"o\"], [\"h\", \"a\", \"l\", \"l\", \"o\"]]"
   ]
  },
  {
   "cell_type": "code",
   "execution_count": null,
   "id": "1ebece46",
   "metadata": {},
   "outputs": [
    {
     "name": "stdout",
     "output_type": "stream",
     "text": [
      "['h', 'o', 'l', 'i', 's']\n",
      "['h', 'e', 'l', 'l', 'o']\n",
      "['h', 'a', 'l', 'l', 'o']\n"
     ]
    }
   ],
   "source": [
    "lista = [[\"h\", \"o\", \"l\", \"i\", \"s\"], [\"h\", \"e\", \"l\", \"l\", \"o\"], [\"h\", \"a\", \"l\", \"l\", \"o\"]]\n",
    "\n",
    "# bucle\n",
    "\n",
    "for imprimir in lista:\n",
    "    print(imprimir)"
   ]
  },
  {
   "cell_type": "code",
   "execution_count": 23,
   "id": "a2a63da0",
   "metadata": {},
   "outputs": [
    {
     "ename": "TypeError",
     "evalue": "'int' object is not subscriptable",
     "output_type": "error",
     "traceback": [
      "\u001b[31m---------------------------------------------------------------------------\u001b[39m",
      "\u001b[31mTypeError\u001b[39m                                 Traceback (most recent call last)",
      "\u001b[36mCell\u001b[39m\u001b[36m \u001b[39m\u001b[32mIn[23]\u001b[39m\u001b[32m, line 8\u001b[39m\n\u001b[32m      5\u001b[39m     \u001b[38;5;28mprint\u001b[39m(lista[\u001b[32m1\u001b[39m])\n\u001b[32m      6\u001b[39m     \u001b[38;5;28mprint\u001b[39m(lista[\u001b[32m2\u001b[39m])\n\u001b[32m----> \u001b[39m\u001b[32m8\u001b[39m \u001b[43mgrilla\u001b[49m\u001b[43m(\u001b[49m\u001b[32;43m5\u001b[39;49m\u001b[43m)\u001b[49m\n",
      "\u001b[36mCell\u001b[39m\u001b[36m \u001b[39m\u001b[32mIn[23]\u001b[39m\u001b[32m, line 4\u001b[39m, in \u001b[36mgrilla\u001b[39m\u001b[34m(lista)\u001b[39m\n\u001b[32m      3\u001b[39m \u001b[38;5;28;01mdef\u001b[39;00m\u001b[38;5;250m \u001b[39m\u001b[34mgrilla\u001b[39m(lista):\n\u001b[32m----> \u001b[39m\u001b[32m4\u001b[39m     \u001b[38;5;28mprint\u001b[39m(\u001b[43mlista\u001b[49m\u001b[43m[\u001b[49m\u001b[32;43m0\u001b[39;49m\u001b[43m]\u001b[49m)\n\u001b[32m      5\u001b[39m     \u001b[38;5;28mprint\u001b[39m(lista[\u001b[32m1\u001b[39m])\n\u001b[32m      6\u001b[39m     \u001b[38;5;28mprint\u001b[39m(lista[\u001b[32m2\u001b[39m])\n",
      "\u001b[31mTypeError\u001b[39m: 'int' object is not subscriptable"
     ]
    }
   ],
   "source": [
    "# funcion \n",
    "\n",
    "def grilla(lista):\n",
    "    print(lista[0])\n",
    "    print(lista[1])\n",
    "    print(lista[2])\n",
    "\n",
    "grilla(5)"
   ]
  },
  {
   "cell_type": "markdown",
   "id": "46b84957",
   "metadata": {},
   "source": [
    "# Trabajo en equipo\n",
    "\n",
    "Iniciar Juego\n",
    "\n",
    "Mostrar mensaje de bienvenida \n",
    "\n",
    "Definir palabra_a_encontrar\n",
    "\n",
    "\n",
    "Definir cantidad_de_letras\n",
    "\n",
    "Definir intestos\n",
    "\n",
    "Crear grilla vacia (lista para mostrar el progreso del jugador)\n",
    "\n",
    "\n",
    "  "
   ]
  },
  {
   "cell_type": "code",
   "execution_count": null,
   "id": "c87952b9",
   "metadata": {},
   "outputs": [],
   "source": []
  },
  {
   "cell_type": "code",
   "execution_count": 17,
   "id": "370b5785",
   "metadata": {},
   "outputs": [
    {
     "name": "stdout",
     "output_type": "stream",
     "text": [
      "la palabra tiene que ser de 5 letras\n",
      "la palabra tiene que ser de 5 letras\n",
      "la palabra tiene que ser de 5 letras\n",
      "la palabra tiene que ser de 5 letras\n",
      "la palabra tiene que ser de 5 letras\n",
      "perdiste\n"
     ]
    }
   ],
   "source": [
    "# Definimos las variables \n",
    "\n",
    "palabra_a_encontrar = \"tiago\"\n",
    "cant_letras = 5\n",
    "intentos = 5\n",
    "grilla = [[\" \", \" \", \" \", \" \", \" \"], [\" \", \" \", \" \", \" \", \" \"], [\" \", \" \", \" \", \" \", \" \"], [\" \", \" \", \" \", \" \", \" \"], [\" \", \" \", \" \", \" \", \" \"]]\n",
    "\n",
    "\n",
    "while intentos > 0:\n",
    "    intentos = intentos - 1\n",
    "\n",
    "    def imprmir_grilla(grilla):\n",
    "        print(0)\n",
    "        print(1)\n",
    "        print(2)\n",
    "        print(3)\n",
    "        print(4)\n",
    "    imprmir_grilla(grilla)\n",
    "    \n",
    "    primera_palabra = input(\"ingresa primera palabra\")\n",
    "    numero_letras_uno = int(len(primera_palabra))\n",
    "\n",
    "    \n",
    "    while numero_letras_uno != cant_letras:\n",
    "            print(\"la palabra tiene que ser de 5 letras\")\n",
    "            break\n",
    "            \n",
    "    grilla[0] = primera_palabra    \n",
    "    #for imprimir in grilla:\n",
    "    #    print(imprimir)\n",
    "\n",
    "\n",
    "\n",
    "    #for grilla_blanco in grilla:\n",
    "    #    print(grilla_blanco)\n",
    "\n",
    "\n",
    "print(\"perdiste\")\n"
   ]
  },
  {
   "cell_type": "code",
   "execution_count": null,
   "id": "ecdee08a",
   "metadata": {},
   "outputs": [],
   "source": []
  }
 ],
 "metadata": {
  "kernelspec": {
   "display_name": "Python 3",
   "language": "python",
   "name": "python3"
  },
  "language_info": {
   "codemirror_mode": {
    "name": "ipython",
    "version": 3
   },
   "file_extension": ".py",
   "mimetype": "text/x-python",
   "name": "python",
   "nbconvert_exporter": "python",
   "pygments_lexer": "ipython3",
   "version": "3.13.0"
  }
 },
 "nbformat": 4,
 "nbformat_minor": 5
}

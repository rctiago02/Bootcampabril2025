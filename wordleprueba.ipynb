{
 "cells": [
  {
   "cell_type": "code",
   "execution_count": 16,
   "id": "758a346c",
   "metadata": {},
   "outputs": [
    {
     "name": "stdout",
     "output_type": "stream",
     "text": [
      "['b', 'o', 'l', 'a']\n"
     ]
    }
   ],
   "source": [
    "intentos = int(input(\"ingrese cantidad de intentos\"))\n",
    "palabra_secreta = input(\"ingrese palabra secreta\")\n",
    "cantidad_letras_secreta = len(palabra_secreta)\n",
    "contador_letras = 0\n",
    "\n",
    "\n",
    "letras_vacias = \" \"\n",
    "cantidad_letras_vacias = len(letras_vacias)\n",
    "\n",
    "while cantidad_letras_vacias != cantidad_letras_secreta:\n",
    "    letras_vacias = letras_vacias + \" \"\n",
    "    cantidad_letras_vacias = len(letras_vacias)\n",
    "\n",
    "lista_vacia = [list(letras_vacias)]\n",
    "lista_vacia = lista_vacia * intentos\n",
    "\n",
    "lista_palabra_encontrar = list(palabra_secreta)\n",
    "\n",
    "\n",
    "palabra_ingresada = input(\"adivina la palabra\")\n",
    "lista_palabra_ingresada = list(palabra_ingresada)\n",
    "\n",
    "def comparador_letras(palabra_secreta, palabra_ingresada):\n",
    "\n",
    "    for posicion in range(cantidad_letras_secreta):\n",
    "\n",
    "        if lista_palabra_encontrar[contador_letras] == lista_palabra_ingresada[contador_letras]:\n",
    "            lista_palabra_ingresada[contador_letras] = \"[\" + lista_palabra_ingresada[contador_letras] + \"]\"\n",
    "            contador_letras = contador_letras + 1\n",
    "        elif lista_palabra_encontrar[contador_letras] == lista_palabra_ingresada[contador_letras]:\n",
    "            lista_palabra_ingresada[contador_letras] = '(' + lista_palabra_ingresada[contador_letras] + ')'\n",
    "        else:\n",
    "            continue\n",
    "        contador = contador + 1\n",
    "        return\n",
    "\n",
    "\n",
    "comparador_letras\n",
    "print(lista_palabra_ingresada)\n",
    "\n",
    "#def comparador_letras(palabra_secreta, palabra ingresada):\n",
    "   \n",
    "#   for posicion in cantidad_letras_secreta:\n",
    "       \n"
   ]
  },
  {
   "cell_type": "code",
   "execution_count": null,
   "id": "c1c6bb24",
   "metadata": {},
   "outputs": [],
   "source": []
  }
 ],
 "metadata": {
  "kernelspec": {
   "display_name": "Python 3",
   "language": "python",
   "name": "python3"
  },
  "language_info": {
   "codemirror_mode": {
    "name": "ipython",
    "version": 3
   },
   "file_extension": ".py",
   "mimetype": "text/x-python",
   "name": "python",
   "nbconvert_exporter": "python",
   "pygments_lexer": "ipython3",
   "version": "3.13.0"
  }
 },
 "nbformat": 4,
 "nbformat_minor": 5
}

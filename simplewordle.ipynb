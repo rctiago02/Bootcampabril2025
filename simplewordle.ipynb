{
 "cells": [
  {
   "cell_type": "code",
   "execution_count": 1,
   "metadata": {},
   "outputs": [
    {
     "name": "stdout",
     "output_type": "stream",
     "text": [
      "['t', 'i', 'a', 'g', 'o']\n"
     ]
    }
   ],
   "source": [
    "# Definir intentos, palabra secreta y la cantidad de letras en base a la palabra secreta\n",
    "intentos = 3\n",
    "#intentos = int(input(\"ingrese una cantidad de intentos\"))\n",
    "palabra_secreta = input(\"ingrese una palabra secreta\")\n",
    "\n",
    "cantidad_letras = len(palabra_secreta)\n",
    "\n",
    "# Pide al usuario que ingrese su palabra \n",
    "palabra_ingresada = input(f\"ingresa una palabra con {cantidad_letras} letras\")\n",
    "grilla = []\n",
    "\n",
    "\n"
   ]
  },
  {
   "cell_type": "code",
   "execution_count": null,
   "metadata": {},
   "outputs": [],
   "source": [
    "# condicion de mientras la cantidad de letras de la palabra ingresada no sea igual a la cantidad\n",
    "# de letras de la palabra secreta repite hasta que sea igual\n",
    "while cantidad_letras != len(palabra_ingresada):\n",
    "    print(f\"la palabra debe contener {cantidad_letras} letras\")\n",
    "    palabra_ingresada = input(f\"ingrese una palabra de {cantidad_letras} letras\")\n",
    "\n",
    "\n",
    "\n",
    "    #print(\"hola\")\n",
    "\n",
    "\n",
    "# print(cantidad_letras)"
   ]
  }
 ],
 "metadata": {
  "kernelspec": {
   "display_name": "Python 3",
   "language": "python",
   "name": "python3"
  },
  "language_info": {
   "codemirror_mode": {
    "name": "ipython",
    "version": 3
   },
   "file_extension": ".py",
   "mimetype": "text/x-python",
   "name": "python",
   "nbconvert_exporter": "python",
   "pygments_lexer": "ipython3",
   "version": "3.13.1"
  }
 },
 "nbformat": 4,
 "nbformat_minor": 2
}

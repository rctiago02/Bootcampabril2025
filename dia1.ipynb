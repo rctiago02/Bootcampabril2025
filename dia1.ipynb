{
 "cells": [
  {
   "cell_type": "code",
   "execution_count": 2,
   "id": "706d859c",
   "metadata": {},
   "outputs": [
    {
     "name": "stdout",
     "output_type": "stream",
     "text": [
      "Hola mundo\n"
     ]
    }
   ],
   "source": [
    "print(\"Hola mundo\")"
   ]
  },
  {
   "cell_type": "markdown",
   "id": "c580971b",
   "metadata": {},
   "source": [
    "\"nunca usar numeros al inicio de una variable\n"
   ]
  },
  {
   "cell_type": "markdown",
   "id": "09e3bb36",
   "metadata": {},
   "source": [
    "## tipos de datos almacenables\n",
    "\n",
    "- int = integer = entero = numero entero == 981  \n",
    "- float = floating = numeros con decimales == 123.3\n",
    "- str = string  = linea == \"tiago\"\n",
    "- bool = boolean = TRUE - FALSE\n"
   ]
  },
  {
   "cell_type": "code",
   "execution_count": null,
   "id": "50ed30c4",
   "metadata": {},
   "outputs": [
    {
     "name": "stdout",
     "output_type": "stream",
     "text": [
      "165\n",
      "83\n",
      "las frutas vendidas son 82\n"
     ]
    }
   ],
   "source": [
    "# Suma de frutas\n",
    "cantidad_de_manzanas = 99\n",
    "cantidad_de_naranjas = 66\n",
    "cantidad_de_frutas = cantidad_de_manzanas + cantidad_de_naranjas\n",
    "print(cantidad_de_frutas)\n",
    "\n",
    "\n",
    "# Resta de frutas vendidas\n",
    "frutas_vendidas = 82\n",
    "frutas_restantes = cantidad_de_frutas - frutas_vendidas\n",
    "print(frutas_restantes)\n",
    "\n",
    "\n",
    "\n"
   ]
  },
  {
   "cell_type": "code",
   "execution_count": null,
   "id": "7bb93c77",
   "metadata": {},
   "outputs": [
    {
     "name": "stdout",
     "output_type": "stream",
     "text": [
      "Hoy me llamaron por mi apellido Alonzo, nunca nadie sabe como me llamo, quiero gritar al mundo me llamo jazmin, aprendanlo ratas inmundas\n",
      "jazmin Alonzo\n"
     ]
    }
   ],
   "source": [
    "nombre = \"jazmin\"\n",
    "apellido = \"Alonzo\"\n",
    "print(F\"Hoy me llamaron por mi apellido {apellido}, nunca nadie sabe como me llamo, quiero gritar al mundo me llamo {nombre}, aprendanlo ratas inmundas\")\n",
    "\n"
   ]
  },
  {
   "cell_type": "code",
   "execution_count": 21,
   "id": "5bb97b3e",
   "metadata": {},
   "outputs": [
    {
     "name": "stdout",
     "output_type": "stream",
     "text": [
      "Las tareas en total son de 110\n"
     ]
    }
   ],
   "source": [
    "tareas_por_entregar = int(input('ingresa el numero de tareas que falta realizar'))\n",
    "tareas_hechas = int(input('ingresa el numero de tareas que ya hiciste'))\n",
    "tareas_en_total = tareas_por_entregar + tareas_hechas\n",
    "print(\"Las tareas en total son de\", tareas_en_total)"
   ]
  },
  {
   "cell_type": "code",
   "execution_count": 36,
   "id": "30bd8814",
   "metadata": {},
   "outputs": [
    {
     "name": "stdout",
     "output_type": "stream",
     "text": [
      "La nota promedio es de 372\n",
      "La nota promedio es de 2040\n",
      "La nota promedio es de 3030\n"
     ]
    }
   ],
   "source": [
    "# crear una funcion ingresando notas, promediando y imprimiendo el promedio\n",
    "\n",
    "def imprimir_notas_de_alumnos():\n",
    "    #indentacion\n",
    "    nota_1 = int(input(\"ingresa la primera nota\"))\n",
    "    nota_2 = int(input(\"ingresa la segunda nota\"))\n",
    "    nota_3 = int(input(\"ingresa la tercera nota\"))\n",
    "    nota_4 = int(input(\"ingresa la cuarta nota\"))\n",
    "    nota_promedio = (nota_1 + nota_2 + nota_3 + nota_4) / 4\n",
    "    entero_promedio = int(nota_promedio)\n",
    "    print(\"La nota promedio es de\", entero_promedio)\n",
    "\n",
    "\n",
    "imprimir_notas_de_alumnos() \n",
    "imprimir_notas_de_alumnos() \n",
    "imprimir_notas_de_alumnos() "
   ]
  },
  {
   "cell_type": "code",
   "execution_count": 39,
   "id": "dae7ac4e",
   "metadata": {},
   "outputs": [
    {
     "name": "stdout",
     "output_type": "stream",
     "text": [
      "las caracteristicas del lavarropa son>\n",
      "El año es 65\n",
      "La Capacidad de peso es 2\n",
      "La tiempo de lavado es de 4 hs.\n",
      "las caracteristicas del lavarropa son>\n",
      "El año es 20\n",
      "La Capacidad de peso es 6\n",
      "La tiempo de lavado es de 4 hs.\n"
     ]
    }
   ],
   "source": [
    "\n",
    "def compra_lavarropa(ano, capacidad, tiempo):\n",
    "    print(\"las caracteristicas del lavarropa son>\")\n",
    "    print(f\"El año es {ano}\")\n",
    "    print(f\"La Capacidad de peso es {capacidad}\")\n",
    "    print(f\"La tiempo de lavado es de {tiempo} hs.\")\n",
    "\n",
    "compra_lavarropa(65, 2, 4)\n",
    "compra_lavarropa(20, 6, 4)"
   ]
  },
  {
   "cell_type": "code",
   "execution_count": 46,
   "id": "28595ee2",
   "metadata": {},
   "outputs": [
    {
     "name": "stdout",
     "output_type": "stream",
     "text": [
      "las caracteristicas del lavarropa son:\n",
      "Tiene 50 años\n",
      "La Capacidad de peso es 20 kg.\n",
      "La tiempo de lavado es de 3 hs.\n",
      "las caracteristicas del lavarropa son:\n",
      "Tiene 2 años\n",
      "La Capacidad de peso es 90 kg.\n",
      "La tiempo de lavado es de 1 hs.\n"
     ]
    }
   ],
   "source": [
    "\n",
    "def compra_lavarropa(ano, capacidad, tiempo):\n",
    "    print(\"las caracteristicas del lavarropa son:\")\n",
    "    ano = int(input(\"cuantos años tiene el lavarropa?\"))\n",
    "    capacidad = int(input(\"Que capacidad de kg tiene?\"))\n",
    "    tiempo = int(input(\"Cuantas horas tarda en lavar?\"))\n",
    "\n",
    "    print(f\"Tiene {ano} años\")\n",
    "    print(f\"La Capacidad de peso es {capacidad} kg.\")\n",
    "    print(f\"La tiempo de lavado es de {tiempo} hs.\")\n",
    "\n",
    "compra_lavarropa(65, 2, 4)\n",
    "compra_lavarropa(20, 6, 4)"
   ]
  }
 ],
 "metadata": {
  "kernelspec": {
   "display_name": "Python 3",
   "language": "python",
   "name": "python3"
  },
  "language_info": {
   "codemirror_mode": {
    "name": "ipython",
    "version": 3
   },
   "file_extension": ".py",
   "mimetype": "text/x-python",
   "name": "python",
   "nbconvert_exporter": "python",
   "pygments_lexer": "ipython3",
   "version": "3.13.0"
  }
 },
 "nbformat": 4,
 "nbformat_minor": 5
}

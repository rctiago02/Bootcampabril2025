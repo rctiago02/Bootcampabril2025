{
 "cells": [
  {
   "cell_type": "markdown",
   "id": "738eee35",
   "metadata": {},
   "source": [
    "# Challenge 1"
   ]
  },
  {
   "cell_type": "code",
   "execution_count": 7,
   "id": "fedb661e",
   "metadata": {},
   "outputs": [
    {
     "name": "stdout",
     "output_type": "stream",
     "text": [
      "{'nombre': 'tiago'}\n",
      "{'nombre': 'tiago', 'apellido': 'ramirez'}\n",
      "{'nombre': 'tiago', 'apellido': 'ramirez', 'celular': '6514'}\n",
      "{'nombre': 'tiago', 'apellido': 'ramirez', 'celular': '6514', 'direccion': 'sant'}\n",
      "{'nombre': 'tiago', 'apellido': 'ramirez', 'celular': '6514', 'direccion': 'sant', 'edad': ''}\n",
      "{'nombre': 'tiago', 'apellido': 'ramirez', 'celular': '6514', 'direccion': 'sant', 'edad': '', 'profecion': 'anif'}\n",
      "{'nombre': 'tiago', 'apellido': 'ramirez', 'celular': '6514', 'direccion': 'sant', 'edad': '', 'profecion': 'anif', 'residencia': 'juadf'}\n"
     ]
    }
   ],
   "source": [
    "# crear el diccionario\n",
    "# ir llenando con informacion \n",
    "# pedir informacion como key \n",
    "# imprimir el diccionario cada evento de nueva informacion\n",
    "\n",
    "\n",
    "diccionario = {}\n",
    "\n",
    "diccionario[\"nombre\"] = input(\"ingresa tu nombre\")\n",
    "print(diccionario)\n",
    "\n",
    "diccionario[\"apellido\"] = input(\"ingresa tu apellido\")\n",
    "print(diccionario)\n",
    "\n",
    "diccionario[\"celular\"] = input(\"ingresa tu celular\")\n",
    "print(diccionario)\n",
    "\n",
    "diccionario[\"direccion\"] = input(\"ingresa tu direccion\")\n",
    "print(diccionario)\n",
    "\n",
    "diccionario[\"edad\"] = input(\"ingresa tu edad\")\n",
    "print(diccionario)\n",
    "\n",
    "diccionario[\"profecion\"] = input(\"ingresa tu profecion\")\n",
    "print(diccionario)\n",
    "\n",
    "diccionario[\"residencia\"] = input(\"ingresa tu residencia\")\n",
    "print(diccionario)\n",
    "\n"
   ]
  },
  {
   "cell_type": "code",
   "execution_count": 15,
   "id": "91f258e4",
   "metadata": {},
   "outputs": [
    {
     "name": "stdout",
     "output_type": "stream",
     "text": [
      "{'nombre': 'jose'}\n",
      "{'nombre': 'jose', 'apellido': 'espinola'}\n"
     ]
    }
   ],
   "source": [
    "\n",
    "# ir llenando con informacion \n",
    "# pedir informacion como key \n",
    "# imprimir el diccionario cada evento de nueva informacion\n",
    "\n",
    "# crear el diccionario\n",
    "dictionary = {}\n",
    "# Comienza un bucle\n",
    "while True:\n",
    "    # requiere una dato en variable palabra llave\n",
    "    palabra_clave = input(\"ingrese una palabra llave\")\n",
    "    # Usa la variable palabra_llave para key en el diccionario y requiere un valor para la llave\n",
    "    dictionary[palabra_clave] = input(f\"ingresa el valor de {palabra_clave}\")\n",
    "    # imprime diccionario\n",
    "    print(dictionary)\n",
    "\n",
    "    # Crea una condicion donde si la respuesta es si rompe el ciclo WHILE\n",
    "    if \"si\" == input(\"Queres parar de cargar datos en el dictionary?\"):\n",
    "        break\n"
   ]
  },
  {
   "cell_type": "code",
   "execution_count": null,
   "id": "776203b2",
   "metadata": {},
   "outputs": [
    {
     "name": "stdout",
     "output_type": "stream",
     "text": [
      "Lista de Diccionario\n",
      "{'nombe': 'tiago'}\n",
      "Lista de Diccionario\n",
      "{'nombe': 'tiago', 'ramirez': 'ramirez'}\n",
      "Lista de Diccionario\n",
      "{'nombe': 'tiago', 'ramirez': 'ramirez', '': ''}\n",
      "Lista de Diccionario\n",
      "{'nombe': 'tiago', 'ramirez': 'ramirez', '': '', 'si': 'si'}\n"
     ]
    }
   ],
   "source": [
    "# crear el diccionario\n",
    "dictionary = {}\n",
    "while True:\n",
    "    palabra_clave = input(\"ingrese una palabra llave\")\n",
    "    dictionary[palabra_clave] = input(f\"ingresa el valor de {palabra_clave}\")\n",
    "    print(dictionary)\n",
    "    if \"si\" == input(\"Queres parar de cargar datos en el dictionary?\"):\n",
    "        break\n",
    "\n"
   ]
  },
  {
   "cell_type": "code",
   "execution_count": 14,
   "id": "23c11d63",
   "metadata": {},
   "outputs": [
    {
     "name": "stdout",
     "output_type": "stream",
     "text": [
      "{'nombre': 'Marcos', 'Apellido': 'Mazacotte', 'Celular': '0972818527', 'Edad': 25}\n",
      "{'nombre': 'Marcos', 'apellido': 'Mazacotte', 'celular': '0972818527', 'edad': 24}\n",
      "{'nombre': 'Marcos', 'apellido': 'Mazacotte', 'celular': '0972818527', 'edad': 24, 'direccion': 'Sacramento - Edificio DOT'}\n",
      "{'nombre': 'Marcos', 'apellido': 'Mazacotte', 'celular': '09090909', 'edad': 24, 'direccion': 'Sacramento - Edificio DOT'}\n",
      "{'nombre': 'Marcos', 'apellido': 'Mazacotte', 'celular': '09090909', 'edad': 24}\n",
      "{'nombre': 'Marcos', 'apellido': 'Mazacotte', 'celular': '09090909'}\n"
     ]
    }
   ],
   "source": [
    "#Diccionario\n",
    "#es una coleccion de pares formados por una clave y un valor asociado a lallave. \n",
    "# #Se construye poniendo pares de llaves separados por comas y separando el valor con dos puntos\n",
    "#Ejemplo de diccionario\n",
    "mi_contacto = {\"nombre\" : \"Marcos\" , \"Apellido\" : \"Mazacotte\" , \"Celular\" : \"0972818527\" , \"Edad\" : 25}\n",
    "\n",
    "print(mi_contacto)\n",
    "mi_contacto = {\n",
    "    \"nombre\" : \"Marcos\" ,\n",
    "    \"apellido\" : \"Mazacotte\" ,\n",
    "    \"celular\" : \"0972818527\" ,\n",
    "    \"edad\" : 24}\n",
    "\n",
    "print(mi_contacto)\n",
    "#Acceder al dato del diccionario\n",
    "mi_contacto[\"nombre\"]\n",
    "mi_contacto[\"apellido\"]\n",
    "\n",
    "#desplegar datos del diccionario\n",
    "mi_contacto.keys()\n",
    "mi_contacto.values()\n",
    "mi_contacto.items()\n",
    "\n",
    "#Actualizar datos del diccionario\n",
    "mi_contacto[\"direccion\"] = \"Sacramento - Edificio DOT\"\n",
    "print(mi_contacto)\n",
    "\n",
    "#Modificar datos\n",
    "mi_contacto[\"celular\"] = \"09090909\"\n",
    "print(mi_contacto)\n",
    "\n",
    "#Eliminar ultimo par\n",
    "mi_contacto.popitem()\n",
    "print(mi_contacto)\n",
    "\n",
    "#Eliminar dato especifico\n",
    "del mi_contacto[\"edad\"]\n",
    "print(mi_contacto)"
   ]
  },
  {
   "cell_type": "code",
   "execution_count": null,
   "id": "8da5b44f",
   "metadata": {},
   "outputs": [
    {
     "name": "stdout",
     "output_type": "stream",
     "text": [
      "la respueta es invalida, responda con un 'si' o un 'no'\n",
      "la respueta es invalida, responda con un 'si' o un 'no'\n",
      "la respueta es invalida, responda con un 'si' o un 'no'\n",
      "{}\n"
     ]
    }
   ],
   "source": [
    "# Crea el el diccionario de datos en la tarjeta\n",
    "datos_de_tarjeta = {}\n",
    "afirmativo = \"si\"\n",
    "negativo = \"no\"\n",
    "elecion_afirmativo_negativo = (input(\"queres crear un dato nuevo?\"))\n",
    "# Comienza el bucle para cargar, modificar y eliminar datos del diccionario de datos de tarjeta\n",
    "while True:\n",
    "    # Crea una condicion donde pregunta al usuario si quiere ingresar un nuevo dato\n",
    "    while negativo != elecion_afirmativo_negativo:\n",
    "        # Condicion de si afirmativo es igual a la eleccion si o no realizar la condicion\n",
    "        if afirmativo == elecion_afirmativo_negativo:\n",
    "            # Crea una palabra clave que ingresa el usuario\n",
    "            palabra_clave = input(\"ingrese una palabra llave\")\n",
    "            # Usa la variable plabra_clave para key en el diccionario y requiere un valor para la llave\n",
    "            datos_de_tarjeta[palabra_clave] = input(f\"ingresa el valor de {palabra_clave}\")\n",
    "            break\n",
    "        else:\n",
    "            elecion_afirmativo_negativo = input(\"respuesta invalida, porfavor responda con si o con no?\")\n",
    "        \n",
    "    # Crea otra condicion donde pregunta al usuario si quiere modificar un dato\n",
    "\n",
    "    if len(datos_de_tarjeta) != 0:\n",
    "        while afirmativo == input(\"queres modificar un dato?\"):\n",
    "            # imprimir la lista de datos\n",
    "            print(datos_de_tarjeta)\n",
    "            # Crea una variable donde pregunta cual la palabra llave que modificar\n",
    "            dato_a_modificar = input(\"ingresa el cual es el dato que queres cambiar?\")\n",
    "            datos_de_tarjeta[dato_a_modificar] = input(f\"ingresa el nuevo dato para cambiar a la llave {dato_a_modificar}\")\n",
    "            break\n",
    "\n",
    "    if len(datos_de_tarjeta) != 0:\n",
    "    # Crea otra condicion para eliminar un dato\n",
    "        while afirmativo == input(\"queres eliminar un dato?\"):\n",
    "            dato_a_eliminar = input(\"cual es el la palabra llave de los datos que queres eliminar?\")\n",
    "            del datos_de_tarjeta[dato_a_eliminar]\n",
    "            break\n",
    "    # crea una condicion para romper el bucle\n",
    "    if \"no\" == input(\"queres continuar cargando datos?\"):\n",
    "        break\n",
    "\n",
    "\n",
    "print(datos_de_tarjeta)"
   ]
  },
  {
   "cell_type": "code",
   "execution_count": null,
   "id": "03dd00d0",
   "metadata": {},
   "outputs": [
    {
     "name": "stdout",
     "output_type": "stream",
     "text": [
      "{}\n",
      "{}\n"
     ]
    }
   ],
   "source": [
    "contacto_uno = {}\n",
    "agenda_contactos = {}\n",
    "afirmativo = \"crear\"\n",
    "negativo = \"no\"\n",
    "elecion_crear_modificar = (input(\"queres crear o modificar un dato?\"))\n",
    "# Comienza el bucle para cargar, modificar y eliminar datos del diccionario de datos de tarjeta\n",
    "while True:\n",
    "    print(agenda_contactos)\n",
    "\n",
    "    # Condicion de si afirmativo es igual a la eleccion si o no realizar la condicion\n",
    "    if \"crear\" == elecion_crear_modificar:\n",
    "        # Crea una palabra clave que ingresa el usuario\n",
    "        palabra_clave = input(\"ingrese una palabra llave\")\n",
    "        # Usa la variable plabra_clave para key en el diccionario y requiere un valor para la llave\n",
    "        datos_de_tarjeta[palabra_clave] = input(f\"ingresa el valor de {palabra_clave}\")\n",
    "        break\n",
    "    # Crea otra condicion donde pregunta al usuario si quiere modificar un dato\n",
    "\n",
    "    if \"modificar\" == elecion_crear_modificar:\n",
    "        # Crea una variable donde pregunta cual la palabra llave que modificar\n",
    "        dato_a_modificar = input(\"ingresa el cual es el dato que queres cambiar?\")\n",
    "        datos_de_tarjeta[dato_a_modificar] = input(f\"ingresa el nuevo dato para cambiar a la llave {dato_a_modificar}\")\n",
    "        break\n",
    "    # crea una condicion para romper el bucle\n",
    "    if \"no\" == input(\"queres continuar cargando datos?\"):\n",
    "        break\n",
    "\n",
    "\n",
    "print(datos_de_tarjeta)"
   ]
  },
  {
   "cell_type": "code",
   "execution_count": null,
   "id": "b01c46f2",
   "metadata": {},
   "outputs": [
    {
     "name": "stdout",
     "output_type": "stream",
     "text": [
      "{'nombre': 'samu', 'modificar': 'samu'}\n",
      "{1: 'nombre', 2: 'nombre', 3: 'modificar'}\n"
     ]
    }
   ],
   "source": [
    "# Crea el el diccionario de datos en la tarjeta\n",
    "lista_contacto = {}\n",
    "contacto_numero = 0\n",
    "contacto_uno = {}\n",
    "crear = \"crear\"\n",
    "modificar = \"modificar\"\n",
    "elecion_crear_modificar = (input(\"queres crear o modificar un dato?\"))\n",
    "# Comienza el bucle para cargar, modificar y eliminar datos del diccionario de datos de tarjeta\n",
    "while True:\n",
    "    # Crea una condicion donde pregunta al usuario si quiere ingresar un nuevo dato\n",
    "    if crear == elecion_crear_modificar:\n",
    "        # Crea una palabra clave que ingresa el usuario\n",
    "        palabra_clave = input(\"ingrese una palabra llave\")\n",
    "        # Usa la variable plabra_clave para key en el diccionario y requiere un valor para la llave\n",
    "        contacto_uno[palabra_clave] = input(f\"ingresa el valor de {palabra_clave}\")\n",
    "        contacto_numero = contacto_numero + 1\n",
    "        lista_contacto[contacto_numero] = palabra_clave\n",
    "\n",
    "\n",
    "\n",
    "    \n",
    "# Crea otra condicion donde pregunta al usuario si quiere modificar un dato\n",
    "\n",
    "    if modificar == elecion_crear_modificar:\n",
    "        # imprimir la lista de datos\n",
    "        print(lista_contacto)\n",
    "        \n",
    "        # Crea una variable donde pregunta cual la palabra llave que modificar\n",
    "        dato_a_modificar = input(\"ingresa el cual es el dato que queres cambiar?\")\n",
    "        contacto_uno[dato_a_modificar] = input(f\"ingresa el nuevo dato para cambiar a la llave {dato_a_modificar}\")\n",
    "    \n",
    "    if \"no\" == input(\"quieres continuar?\"):\n",
    "        break\n",
    "\n",
    "\n",
    "\n",
    "print(lista_contacto)"
   ]
  },
  {
   "cell_type": "markdown",
   "id": "7e689dfc",
   "metadata": {},
   "source": [
    "# el de arriba falta terminar"
   ]
  },
  {
   "cell_type": "code",
   "execution_count": 51,
   "id": "d977b32d",
   "metadata": {},
   "outputs": [
    {
     "ename": "TypeError",
     "evalue": "Perro() takes no arguments",
     "output_type": "error",
     "traceback": [
      "\u001b[31m---------------------------------------------------------------------------\u001b[39m",
      "\u001b[31mTypeError\u001b[39m                                 Traceback (most recent call last)",
      "\u001b[36mCell\u001b[39m\u001b[36m \u001b[39m\u001b[32mIn[51]\u001b[39m\u001b[32m, line 18\u001b[39m\n\u001b[32m     15\u001b[39m     \u001b[38;5;28;01mdef\u001b[39;00m\u001b[38;5;250m \u001b[39m\u001b[34mcaminar\u001b[39m(\u001b[38;5;28mself\u001b[39m):\n\u001b[32m     16\u001b[39m         \u001b[38;5;28;01mreturn\u001b[39;00m(\u001b[33m\"\u001b[39m\u001b[33mcamino dando saltitos\u001b[39m\u001b[33m\"\u001b[39m)\n\u001b[32m---> \u001b[39m\u001b[32m18\u001b[39m kuyi = \u001b[43mPerro\u001b[49m\u001b[43m(\u001b[49m\u001b[33;43m\"\u001b[39;49m\u001b[33;43mmarron\u001b[39;49m\u001b[33;43m\"\u001b[39;49m\u001b[43m \u001b[49m\u001b[43m,\u001b[49m\u001b[43m \u001b[49m\u001b[33;43m\"\u001b[39;49m\u001b[33;43mdelmer\u001b[39;49m\u001b[33;43m\"\u001b[39;49m\u001b[43m)\u001b[49m\n\u001b[32m     20\u001b[39m \u001b[38;5;28mprint\u001b[39m(kuyi.caminar())\n",
      "\u001b[31mTypeError\u001b[39m: Perro() takes no arguments"
     ]
    }
   ],
   "source": [
    "class Perro:\n",
    "    #atributo de clase\n",
    "    ojos = 2\n",
    "    patas = 4\n",
    "\n",
    "    #atributo de instancia\n",
    "    def init(self, color ,raza):\n",
    "        self.color = color\n",
    "        self.raza = raza\n",
    "\n",
    "    #metodos _ acciones que realizan nuestros objetos\n",
    "    def ladrido(self):\n",
    "        print(\"guau guau\")\n",
    "\n",
    "    def caminar(self):\n",
    "        return(\"camino dando saltitos\")\n",
    "\n",
    "kuyi = Perro(\"marron\" , \"delmer\")\n",
    "\n",
    "print(kuyi.caminar())\n",
    "\n"
   ]
  },
  {
   "cell_type": "code",
   "execution_count": 61,
   "id": "b9db8051",
   "metadata": {},
   "outputs": [
    {
     "name": "stdout",
     "output_type": "stream",
     "text": [
      "cuando como cierro los ojos\n",
      "Ahhhhh\n"
     ]
    }
   ],
   "source": [
    "class Tortuga:\n",
    "    ojos = 2\n",
    "    patas = 4\n",
    "    caparazon = 1\n",
    "\n",
    "    def __init__(self, color, raza):\n",
    "        self.color = color\n",
    "        self.raza = raza\n",
    "    \n",
    "    def comer(self):\n",
    "        return(\"cuando como cierro los ojos\")\n",
    "    def gemido(self):\n",
    "        return(\"Ahhhhh\")\n",
    "    \n",
    "philipo = Tortuga(\"verde\" , 'tierra')\n",
    "\n",
    "print(philipo.comer())\n",
    "print(philipo.gemido())\n",
    "    "
   ]
  },
  {
   "cell_type": "code",
   "execution_count": 82,
   "id": "3564aec7",
   "metadata": {},
   "outputs": [
    {
     "name": "stdout",
     "output_type": "stream",
     "text": [
      "verde tierra\n"
     ]
    }
   ],
   "source": [
    "class Tortuga:\n",
    "    ojos = 2\n",
    "    patas = 4\n",
    "    caparazon = 1\n",
    "\n",
    "    def __init__(self, color, raza):\n",
    "        self.color = color\n",
    "        self.raza = raza\n",
    "    \n",
    "    def comer(self):\n",
    "        return(\"cuando como cierro los ojos\")\n",
    "    def gemido(self):\n",
    "        return(\"Ahhhhh\")\n",
    "    \n",
    "philipo = Tortuga(\"verde\" , 'tierra')\n",
    "\n",
    "# print(philipo.comer())\n",
    "# print(philipo.gemido())\n",
    "\n",
    "class Tortiguita(Tortuga):\n",
    "    cola = 1\n",
    "\n",
    "    def dormir(self):\n",
    "        return(\"Dormir\")\n",
    "\n",
    "mini = Tortiguita(\"verde\", \"tierra\")\n",
    "\n",
    "\n",
    "\n",
    "print(mini.color , mini.raza)\n"
   ]
  }
 ],
 "metadata": {
  "kernelspec": {
   "display_name": "Python 3",
   "language": "python",
   "name": "python3"
  },
  "language_info": {
   "codemirror_mode": {
    "name": "ipython",
    "version": 3
   },
   "file_extension": ".py",
   "mimetype": "text/x-python",
   "name": "python",
   "nbconvert_exporter": "python",
   "pygments_lexer": "ipython3",
   "version": "3.13.0"
  }
 },
 "nbformat": 4,
 "nbformat_minor": 5
}

{
 "cells": [
  {
   "cell_type": "markdown",
   "id": "51e414b5",
   "metadata": {},
   "source": [
    "# Condicionales"
   ]
  },
  {
   "cell_type": "code",
   "execution_count": 5,
   "id": "74235621",
   "metadata": {},
   "outputs": [
    {
     "name": "stdout",
     "output_type": "stream",
     "text": [
      "Juguito nomas\n"
     ]
    }
   ],
   "source": [
    "# Codigo para definir si podes tomar alcohol\n",
    "\n",
    "edad_usuario = int(input(\"Cual es tu edad?\"))\n",
    "\n",
    "if edad_usuario < 18:\n",
    "    print(\"Juguito nomas\")\n",
    "elif edad_usuario > 20:\n",
    "    print(\"Hace lo quieras.\")\n",
    "else:\n",
    "    print(\"Podes tomar pero no comprar\")"
   ]
  },
  {
   "cell_type": "markdown",
   "id": "68202432",
   "metadata": {},
   "source": [
    "# Operadores Logicos\n",
    "\n",
    "- and (Y) se cumple solo si ambas condiciones son verdaderas\n",
    "- or  (o) se cumple si al menos una de las condiciones es verdadera\n",
    "- not (no) "
   ]
  },
  {
   "cell_type": "code",
   "execution_count": null,
   "id": "a4d8ff27",
   "metadata": {},
   "outputs": [
    {
     "name": "stdout",
     "output_type": "stream",
     "text": [
      "La temperatura es de 18 Celsius\n",
      "Fresquete\n"
     ]
    }
   ],
   "source": [
    "# Definir si con la temperatura nos morimos o no \"SI o NO\"\n",
    "\n",
    "temperatura_celsius =  int(input(\"Cual es la temperatura en Celsius?\"))\n",
    "print(f\"La temperatura es de {temperatura_celsius} Celsius\")\n",
    "\n",
    "if temperatura_celsius > -10 and temperatura_celsius <= 18:\n",
    "    print(\"Fresquete\")\n",
    "elif temperatura_celsius >= 19 and temperatura_celsius <= 30:\n",
    "    print(\"Calor'i\")\n",
    "elif temperatura_celsius >= 31 and temperatura_celsius <= 45:\n",
    "    print(\"Hakuuuuu\")\n",
    "else:\n",
    "    print(\"Ñamano mba'e\")"
   ]
  },
  {
   "cell_type": "markdown",
   "id": "706b7551",
   "metadata": {},
   "source": [
    "# Bucles"
   ]
  },
  {
   "cell_type": "markdown",
   "id": "ef3917c0",
   "metadata": {},
   "source": [
    "## WHILE\n",
    "\n",
    "Nos permite ejecutar una serie de instrucciones mientras una condicion se cumpla.\n",
    "\n",
    "Al momento que la condicion deje de ser cierta el bucle va parar.\n"
   ]
  },
  {
   "cell_type": "code",
   "execution_count": null,
   "id": "5908dd6f",
   "metadata": {},
   "outputs": [
    {
     "ename": "ValueError",
     "evalue": "invalid literal for int() with base 10: ''",
     "output_type": "error",
     "traceback": [
      "\u001b[31m---------------------------------------------------------------------------\u001b[39m",
      "\u001b[31mValueError\u001b[39m                                Traceback (most recent call last)",
      "\u001b[36mCell\u001b[39m\u001b[36m \u001b[39m\u001b[32mIn[21]\u001b[39m\u001b[32m, line 6\u001b[39m\n\u001b[32m      3\u001b[39m contrasenha_usuario = \u001b[32m0\u001b[39m\n\u001b[32m      5\u001b[39m \u001b[38;5;28;01mwhile\u001b[39;00m \u001b[38;5;28;01mTrue\u001b[39;00m:\n\u001b[32m----> \u001b[39m\u001b[32m6\u001b[39m    contrasenha_establecida = \u001b[38;5;28;43mint\u001b[39;49m\u001b[43m(\u001b[49m\u001b[38;5;28;43minput\u001b[39;49m\u001b[43m(\u001b[49m\u001b[33;43m\"\u001b[39;49m\u001b[33;43mingrese su contranha\u001b[39;49m\u001b[33;43m\"\u001b[39;49m\u001b[43m)\u001b[49m\u001b[43m)\u001b[49m\n\u001b[32m      7\u001b[39m    \u001b[38;5;28;01mbreak\u001b[39;00m\n\u001b[32m      8\u001b[39m    \u001b[38;5;28mprint\u001b[39m(\u001b[33m\"\u001b[39m\u001b[33mpasate \u001b[39m\u001b[33m\"\u001b[39m)\n",
      "\u001b[31mValueError\u001b[39m: invalid literal for int() with base 10: ''"
     ]
    }
   ],
   "source": [
    "#\n",
    "\n",
    "contrasenha_usuario = 0\n",
    "\n",
    "while True:\n",
    "   contrasenha_establecida = int(input(\"ingrese su contranha\"))\n",
    "   break\n",
    "   print(\"pasaste \")\n"
   ]
  },
  {
   "cell_type": "code",
   "execution_count": 25,
   "id": "41753a13",
   "metadata": {},
   "outputs": [
    {
     "name": "stdout",
     "output_type": "stream",
     "text": [
      "Contrasenha correcta\n"
     ]
    }
   ],
   "source": [
    "contrase_establecida = 1234\n",
    "\n",
    "while True:\n",
    "    contrasenha_usuario = int(input(\"Ingresa su contrasenha\")) \n",
    "    if contrasenha_establecida == contrasenha_usuario:\n",
    "        print(\"Contrasenha correcta\")\n",
    "        break"
   ]
  },
  {
   "cell_type": "code",
   "execution_count": 27,
   "id": "315f5c85",
   "metadata": {},
   "outputs": [
    {
     "name": "stdout",
     "output_type": "stream",
     "text": [
      "Contrasenha correcta\n"
     ]
    }
   ],
   "source": [
    "contrase_establecida = 1234\n",
    "contrasenha_usuario = int(input(\"ingrese su contrasenha\"))\n",
    "\n",
    "while contrasenha_establecida != contrasenha_usuario:\n",
    "    contrasenha_usuario = int(input(\"Ingresa su contrasenha\")) \n",
    "print(\"Contrasenha correcta\")"
   ]
  },
  {
   "cell_type": "code",
   "execution_count": 3,
   "id": "db15a4fd",
   "metadata": {},
   "outputs": [
    {
     "name": "stdout",
     "output_type": "stream",
     "text": [
      "la contrasenha es incorrecta vuelve a ingresar\n",
      "La contrasenha es correcta, son 3 galletas\n"
     ]
    }
   ],
   "source": [
    "contra_oculta = 1234\n",
    "contra_usuario = int(input(\" ingresa contrasenha\"))\n",
    "\n",
    "while contra_oculta != contra_usuario:\n",
    "    print(\"la contrasenha es incorrecta vuelve a ingresar\")\n",
    "    contra_usuario = int(input(\"ingrese nuevamente\"))\n",
    "\n",
    "print(\"La contrasenha es correcta, son 3 galletas\")"
   ]
  },
  {
   "cell_type": "code",
   "execution_count": null,
   "id": "e73cc192",
   "metadata": {},
   "outputs": [
    {
     "name": "stdout",
     "output_type": "stream",
     "text": [
      "La contrasenha es correcta, son 3 galletas\n"
     ]
    }
   ],
   "source": [
    "\n",
    "\n",
    "## probar casa\n",
    "\n",
    "\n",
    "contra_oculta = 1234\n",
    "contra_usuario = int(input(\" ingresa contrasenha\"))\n",
    "\n",
    "#while True:\n",
    "#    if  contra_usuario != contra_oculta:\n",
    "        print(\"la contrasenha es incorrecta vuelve a ingresar\")\n",
    "        contra_usuario = int(input(\"ingrese nuevamente\"))\n",
    "    break\n",
    "\n",
    "\n",
    "print(\"La contrasenha es correcta, son 3 galletas\")"
   ]
  },
  {
   "cell_type": "markdown",
   "id": "f151eecd",
   "metadata": {},
   "source": [
    "# Listas\n",
    "\n",
    "- append\n",
    "\n",
    "- remove\n",
    "- pop\n",
    "- len"
   ]
  },
  {
   "cell_type": "code",
   "execution_count": null,
   "id": "f2107632",
   "metadata": {},
   "outputs": [
    {
     "name": "stdout",
     "output_type": "stream",
     "text": [
      "['Elias', 'Ovidio', 'Marcos', 'Ana', 'Diana']\n",
      "['Elias', 'Ovidio', 'Marcos', 'Ana', 'Diana', 'Maggi']\n",
      "['Elias', 'Paula', 'Marcos', 'Ana', 'Diana', 'Maggi']\n",
      "['Elias', 'Paula', 'Ana', 'Diana', 'Maggi']\n"
     ]
    }
   ],
   "source": [
    "#Lista de companheros y cambios.\n",
    "\n",
    "Companheros = [\"Elias\", \"Ovidio\", \"Marcos\", \"Ana\", \"Diana\"]\n",
    "print(Companheros)\n",
    "\n",
    "\n",
    "Companheros.append(\"Maggi\")\n",
    "print(Companheros)\n",
    "\n",
    "Companheros[1] = \"Paula\"\n",
    "print(Companheros)\n",
    "\n",
    "Companheros.pop(2)\n",
    "print(Companheros)\n"
   ]
  },
  {
   "cell_type": "markdown",
   "id": "316e3989",
   "metadata": {},
   "source": [
    "# FOR \n",
    "## Iteracion "
   ]
  },
  {
   "cell_type": "code",
   "execution_count": null,
   "id": "16d5d17f",
   "metadata": {},
   "outputs": [
    {
     "name": "stdout",
     "output_type": "stream",
     "text": [
      "1\n",
      "2\n",
      "3\n",
      "4\n",
      "5\n",
      "6\n",
      "7\n"
     ]
    }
   ],
   "source": [
    "dias_de_la_sema = [1,2,3,4,5,6,7]\n",
    "\n",
    "for i in dias_de_la_sema:\n",
    "\n",
    "    print(i)"
   ]
  },
  {
   "cell_type": "code",
   "execution_count": null,
   "id": "f3d4bc79",
   "metadata": {},
   "outputs": [
    {
     "name": "stdout",
     "output_type": "stream",
     "text": [
      "2\n",
      "4\n",
      "6\n",
      "8\n",
      "10\n",
      "12\n",
      "14\n",
      "16\n",
      "18\n",
      "20\n"
     ]
    }
   ],
   "source": [
    "\n",
    "for i in range(1,11): # al agregar el primer 1 numero agarra el primer indice que es la iteracion multiplicado por 1; el indice comienza en 0 y el 11 termina en el 10\n",
    "    print(i * 2)"
   ]
  },
  {
   "cell_type": "markdown",
   "id": "5c225d95",
   "metadata": {},
   "source": []
  },
  {
   "cell_type": "code",
   "execution_count": null,
   "id": "73a61218",
   "metadata": {},
   "outputs": [
    {
     "name": "stdout",
     "output_type": "stream",
     "text": [
      "adidas\n",
      "samsung\n",
      "lamborghini\n",
      "Ferrari\n"
     ]
    }
   ],
   "source": [
    "lista_marcas = [\"adidas\", \"nike\", \"samsung\", \"apple\", \"lamborghini\", \"Ferrari\"]\n",
    "\n",
    "for marca in lista_marcas: # comienza la iteracion de marca en listas de marcas\n",
    "   if len(marca) >= 6:  # si las letras de una marca es igual o mayor que 6...\n",
    "      print(marca)  # imprimir"
   ]
  },
  {
   "cell_type": "code",
   "execution_count": null,
   "id": "23a50143",
   "metadata": {},
   "outputs": [
    {
     "name": "stdout",
     "output_type": "stream",
     "text": [
      "adidas\n",
      "samsung\n",
      "lamborghini\n",
      "Ferrari\n"
     ]
    }
   ],
   "source": [
    "lista_marcas = [\"adidas\", \"nike\", \"samsung\", \"apple\", \"lamborghini\", \"Ferrari\"]\n",
    "\n",
    "for marca in lista_marcas: # Comienza la iteracion de marca \n",
    "   letras_marcas = len(marca) # Definimos variale a la cantidad de letras de una marca\n",
    "   if letras_marcas >= 6: # si las letras de una marca es igual o mayor que 6...\n",
    "      print(marca) # imprime!!!!"
   ]
  },
  {
   "cell_type": "markdown",
   "id": "ac6c4632",
   "metadata": {},
   "source": []
  },
  {
   "cell_type": "code",
   "execution_count": null,
   "id": "f121ac48",
   "metadata": {},
   "outputs": [
    {
     "name": "stdout",
     "output_type": "stream",
     "text": [
      "todo nosotros oro no moro\n"
     ]
    }
   ],
   "source": [
    "# Cada vez que exista una \"o\" minuscula en la variable frase se imprime la frase final!!!!\n",
    "\n",
    "\n",
    "frase = input(\"ingrese una frase\")\n",
    "\n",
    "for i in frase:\n",
    "    if i == \"o\":\n",
    "        print(\"todo nosotros oro no moro\")"
   ]
  },
  {
   "cell_type": "code",
   "execution_count": null,
   "id": "ef84b4ee",
   "metadata": {},
   "outputs": [
    {
     "name": "stdout",
     "output_type": "stream",
     "text": [
      "todo nosotros oro no moro\n",
      "todo nosotros oro no moro\n"
     ]
    }
   ],
   "source": [
    "# Cada vez que exista una \"o\" en la variable frase se imprime la frase final!!!!\n",
    "\n",
    "\n",
    "frase = input(\"ingrese una frase\")\n",
    "\n",
    "for i in frase:\n",
    "    if i.lower() == \"o\": # Si la frase tiene mayusculas, las convierte en minusculas. los Valores de uppercase y lowercase!!!!\n",
    "        print(\"todo nosotros oro no moro\")"
   ]
  },
  {
   "cell_type": "code",
   "execution_count": null,
   "id": "f0af4970",
   "metadata": {},
   "outputs": [
    {
     "name": "stdout",
     "output_type": "stream",
     "text": [
      "todo nosotros oro no moro\n"
     ]
    }
   ],
   "source": [
    "# si exite una \"o\" en la variable frase imprime 1 sola vez la frase final!!!\n",
    "\n",
    "palabra = input(\"ingresa frase\")\n",
    "\n",
    "if \"o\" in palabra:\n",
    "    print(\"todo nosotros oro no moro\")"
   ]
  }
 ],
 "metadata": {
  "kernelspec": {
   "display_name": "Python 3",
   "language": "python",
   "name": "python3"
  },
  "language_info": {
   "codemirror_mode": {
    "name": "ipython",
    "version": 3
   },
   "file_extension": ".py",
   "mimetype": "text/x-python",
   "name": "python",
   "nbconvert_exporter": "python",
   "pygments_lexer": "ipython3",
   "version": "3.13.0"
  }
 },
 "nbformat": 4,
 "nbformat_minor": 5
}

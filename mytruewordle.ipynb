{
 "cells": [
  {
   "cell_type": "markdown",
   "metadata": {},
   "source": [
    "## Trabajo en equipo\n",
    "Iniciar Juego\n",
    "\n",
    "Mostrar mensaje de bienvenida\n",
    "\n",
    "Definir palabra_a_encontrar\n",
    "\n",
    "Definir cantidad_de_letras\n",
    "\n",
    "Definir intentos\n",
    "\n",
    "Crear grilla vacia (lista para mostrar el progreso del jugador)"
   ]
  },
  {
   "cell_type": "code",
   "execution_count": 2,
   "metadata": {},
   "outputs": [
    {
     "name": "stdout",
     "output_type": "stream",
     "text": [
      "['t', 'i', 'a', 'o', 'g']\n"
     ]
    }
   ],
   "source": [
    "\n",
    "# Definir intentos, palabra secreta y la cantidad de letras en base a la palabra secreta\n",
    "intentos = 3\n",
    "#intentos = int(input(\"ingrese una cantidad de intentos\"))\n",
    "palabra_secreta = input(\"ingrese una palabra secreta\")\n",
    "\n",
    "cantidad_letras = len(palabra_secreta)\n",
    "\n",
    "# Pide al usuario que ingrese su palabra \n",
    "palabra_ingresada = input(f\"ingresa una palabra con {cantidad_letras} letras\")\n",
    "grilla = []\n",
    "\n",
    "\n",
    "\n",
    "# Crea una lista de letras con la palabra ingresada \n",
    "\n",
    "Lista_palabra_ingresada = list(palabra_ingresada)\n",
    "print(Lista_palabra_ingresada)\n",
    "\n",
    " \n"
   ]
  },
  {
   "cell_type": "code",
   "execution_count": 8,
   "metadata": {},
   "outputs": [],
   "source": [
    "# crear una grilla de listas con cada lista el numero de letras de la palabra secreta.\n",
    "\n",
    "\n",
    "\n",
    "def grilla_incompleta()\n",
    "\n",
    "\n",
    "\n",
    "\n",
    "# imprimir una grilla con la lista de intentos y la cantidad de letras en cada lista de la grilla\n",
    "\n",
    "\n",
    "####   print(grilla)\n",
    "\n",
    "\n",
    "# condicion de mientras la cantidad de letras de la palabra ingresada no sea igual a la cantidad\n",
    "# de letras de la palabra secreta repite hasta que sea igual\n",
    "while cantidad_letras != len(palabra_ingresada):\n",
    "    print(f\"la palabra debe contener {cantidad_letras} letras\")\n",
    "    palabra_ingresada = input(f\"ingrese una palabra de {cantidad_letras} letras\")\n",
    "\n",
    "\n",
    "\n",
    "    #print(\"hola\")\n",
    "\n",
    "\n",
    "# print(cantidad_letras)"
   ]
  }
 ],
 "metadata": {
  "kernelspec": {
   "display_name": "Python 3",
   "language": "python",
   "name": "python3"
  },
  "language_info": {
   "codemirror_mode": {
    "name": "ipython",
    "version": 3
   },
   "file_extension": ".py",
   "mimetype": "text/x-python",
   "name": "python",
   "nbconvert_exporter": "python",
   "pygments_lexer": "ipython3",
   "version": "3.13.1"
  }
 },
 "nbformat": 4,
 "nbformat_minor": 2
}

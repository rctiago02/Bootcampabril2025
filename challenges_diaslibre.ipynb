{
 "cells": [
  {
   "cell_type": "code",
   "execution_count": 55,
   "id": "b78cb19d",
   "metadata": {},
   "outputs": [
    {
     "name": "stdout",
     "output_type": "stream",
     "text": [
      "las tareas son dict_keys(['despertarse', 'dormirse']).\n",
      "las tareas son dict_keys(['despertarse', 'dormirse']).\n",
      "las tareas son dict_keys(['despertarse', 'dormirse']).\n",
      "las tareas son dict_keys(['despertarse', 'dormirse']).\n"
     ]
    },
    {
     "ename": "KeyboardInterrupt",
     "evalue": "Interrupted by user",
     "output_type": "error",
     "traceback": [
      "\u001b[31m---------------------------------------------------------------------------\u001b[39m",
      "\u001b[31mKeyboardInterrupt\u001b[39m                         Traceback (most recent call last)",
      "\u001b[36mCell\u001b[39m\u001b[36m \u001b[39m\u001b[32mIn[55]\u001b[39m\u001b[32m, line 14\u001b[39m\n\u001b[32m     12\u001b[39m \u001b[38;5;28;01mwhile\u001b[39;00m tarea_modificar != (gestor_tareas.keys()):\n\u001b[32m     13\u001b[39m     \u001b[38;5;28mprint\u001b[39m(\u001b[33mf\u001b[39m\u001b[33m\"\u001b[39m\u001b[33mlas tareas son \u001b[39m\u001b[38;5;132;01m{\u001b[39;00mgestor_tareas.keys()\u001b[38;5;132;01m}\u001b[39;00m\u001b[33m.\u001b[39m\u001b[33m\"\u001b[39m)\n\u001b[32m---> \u001b[39m\u001b[32m14\u001b[39m     tarea_modificar = \u001b[38;5;28;43minput\u001b[39;49m\u001b[43m(\u001b[49m\u001b[33;43m\"\u001b[39;49m\u001b[33;43mingrese la tarea que quiera modificar su estado, de las tareas descritas\u001b[39;49m\u001b[33;43m\"\u001b[39;49m\u001b[43m)\u001b[49m\n\u001b[32m     16\u001b[39m \u001b[38;5;28;01mif\u001b[39;00m tarea_modificar == gestor_tareas.keys():\n\u001b[32m     18\u001b[39m     estado_modifica_tarea = \u001b[38;5;28minput\u001b[39m(\u001b[33m\"\u001b[39m\u001b[33men que estado esta la tarea? pendiente, completado o en progreso.\u001b[39m\u001b[33m\"\u001b[39m)\n",
      "\u001b[36mFile \u001b[39m\u001b[32m~\\AppData\\Roaming\\Python\\Python313\\site-packages\\ipykernel\\kernelbase.py:1282\u001b[39m, in \u001b[36mKernel.raw_input\u001b[39m\u001b[34m(self, prompt)\u001b[39m\n\u001b[32m   1280\u001b[39m     msg = \u001b[33m\"\u001b[39m\u001b[33mraw_input was called, but this frontend does not support input requests.\u001b[39m\u001b[33m\"\u001b[39m\n\u001b[32m   1281\u001b[39m     \u001b[38;5;28;01mraise\u001b[39;00m StdinNotImplementedError(msg)\n\u001b[32m-> \u001b[39m\u001b[32m1282\u001b[39m \u001b[38;5;28;01mreturn\u001b[39;00m \u001b[38;5;28;43mself\u001b[39;49m\u001b[43m.\u001b[49m\u001b[43m_input_request\u001b[49m\u001b[43m(\u001b[49m\n\u001b[32m   1283\u001b[39m \u001b[43m    \u001b[49m\u001b[38;5;28;43mstr\u001b[39;49m\u001b[43m(\u001b[49m\u001b[43mprompt\u001b[49m\u001b[43m)\u001b[49m\u001b[43m,\u001b[49m\n\u001b[32m   1284\u001b[39m \u001b[43m    \u001b[49m\u001b[38;5;28;43mself\u001b[39;49m\u001b[43m.\u001b[49m\u001b[43m_parent_ident\u001b[49m\u001b[43m[\u001b[49m\u001b[33;43m\"\u001b[39;49m\u001b[33;43mshell\u001b[39;49m\u001b[33;43m\"\u001b[39;49m\u001b[43m]\u001b[49m\u001b[43m,\u001b[49m\n\u001b[32m   1285\u001b[39m \u001b[43m    \u001b[49m\u001b[38;5;28;43mself\u001b[39;49m\u001b[43m.\u001b[49m\u001b[43mget_parent\u001b[49m\u001b[43m(\u001b[49m\u001b[33;43m\"\u001b[39;49m\u001b[33;43mshell\u001b[39;49m\u001b[33;43m\"\u001b[39;49m\u001b[43m)\u001b[49m\u001b[43m,\u001b[49m\n\u001b[32m   1286\u001b[39m \u001b[43m    \u001b[49m\u001b[43mpassword\u001b[49m\u001b[43m=\u001b[49m\u001b[38;5;28;43;01mFalse\u001b[39;49;00m\u001b[43m,\u001b[49m\n\u001b[32m   1287\u001b[39m \u001b[43m\u001b[49m\u001b[43m)\u001b[49m\n",
      "\u001b[36mFile \u001b[39m\u001b[32m~\\AppData\\Roaming\\Python\\Python313\\site-packages\\ipykernel\\kernelbase.py:1325\u001b[39m, in \u001b[36mKernel._input_request\u001b[39m\u001b[34m(self, prompt, ident, parent, password)\u001b[39m\n\u001b[32m   1322\u001b[39m \u001b[38;5;28;01mexcept\u001b[39;00m \u001b[38;5;167;01mKeyboardInterrupt\u001b[39;00m:\n\u001b[32m   1323\u001b[39m     \u001b[38;5;66;03m# re-raise KeyboardInterrupt, to truncate traceback\u001b[39;00m\n\u001b[32m   1324\u001b[39m     msg = \u001b[33m\"\u001b[39m\u001b[33mInterrupted by user\u001b[39m\u001b[33m\"\u001b[39m\n\u001b[32m-> \u001b[39m\u001b[32m1325\u001b[39m     \u001b[38;5;28;01mraise\u001b[39;00m \u001b[38;5;167;01mKeyboardInterrupt\u001b[39;00m(msg) \u001b[38;5;28;01mfrom\u001b[39;00m\u001b[38;5;250m \u001b[39m\u001b[38;5;28;01mNone\u001b[39;00m\n\u001b[32m   1326\u001b[39m \u001b[38;5;28;01mexcept\u001b[39;00m \u001b[38;5;167;01mException\u001b[39;00m:\n\u001b[32m   1327\u001b[39m     \u001b[38;5;28mself\u001b[39m.log.warning(\u001b[33m\"\u001b[39m\u001b[33mInvalid Message:\u001b[39m\u001b[33m\"\u001b[39m, exc_info=\u001b[38;5;28;01mTrue\u001b[39;00m)\n",
      "\u001b[31mKeyboardInterrupt\u001b[39m: Interrupted by user"
     ]
    }
   ],
   "source": [
    "# challenge 1\n",
    "\n",
    "gestor_tareas = {\"despertarse\": \"completada\", \"dormirse\": \"pendiente\"}\n",
    "\n",
    "while True:\n",
    "    if \"si\" == input(\"quieres agregar una tarea?\"):\n",
    "        gestor_tareas[f\"{input(\"ingrese como se llamara la tarea\")}\"] = \"pendiente\"\n",
    "    elif \"si\" == input(\"quieres modificar el estado de una tarea?\"):\n",
    "        print(f\"las tareas son {gestor_tareas.keys()}.\")\n",
    "        tarea_modificar = input(\"ingrese la tarea que quiera modificar su estado\")\n",
    "        \n",
    "        while tarea_modificar != (gestor_tareas.keys()):\n",
    "            print(f\"las tareas son {gestor_tareas.keys()}.\")\n",
    "            tarea_modificar = input(\"ingrese la tarea que quiera modificar su estado, de las tareas descritas\")\n",
    "\n",
    "        if tarea_modificar == gestor_tareas.keys():\n",
    "\n",
    "            estado_modifica_tarea = input(\"en que estado esta la tarea? pendiente, completado o en progreso.\")\n",
    "\n",
    "            if estado_modifica_tarea == \"pendiente\" or \"completado\" or \"en progreso\":\n",
    "                gestor_tareas[tarea_modificar] = estado_modifica_tarea\n",
    "                    \n",
    "            while estado_modifica_tarea != \"pendiente\" or \"completado\" or \"en progreso\":\n",
    "                estado_modifica_tarea = input(\"en que estado esta la tarea? pendiente, completado o en progreso.\")\n",
    "\n",
    "\n",
    "\n",
    "\n",
    "                \n",
    "\n",
    "\n",
    "\n",
    "\n",
    "    elif \"si\" == input(\"quieres parar de modificar el gestor de tareas?\"):\n",
    "        break\n",
    "\n",
    "print(gestor_tareas)\n"
   ]
  },
  {
   "cell_type": "code",
   "execution_count": 46,
   "id": "5351d225",
   "metadata": {},
   "outputs": [
    {
     "name": "stdout",
     "output_type": "stream",
     "text": [
      "tienes 3 intentos.\n",
      "el numero secreto es menor, te quedan 2 intentos\n",
      "el numero secreto es menor, te quedan 1 intentos\n",
      "el numero secreto es menor, te quedan 0 intentos\n",
      "Perdiste el numero era 2\n"
     ]
    }
   ],
   "source": [
    "# Challenge 2\n",
    "import random \n",
    "numero_por_adivinar = random.randint(1, 10)\n",
    "intentos = 3\n",
    "print(f\"tienes {intentos} intentos.\")\n",
    "\n",
    "\n",
    "\n",
    "while intentos >= 1:\n",
    "\n",
    "    numero_ingresado = int(input(\"adivina el numero\"))\n",
    "\n",
    "    if numero_ingresado == numero_por_adivinar:\n",
    "        \n",
    "        print(f\"Ganasteee!!! el numero es {numero_por_adivinar}\")\n",
    "        break\n",
    "\n",
    "    intentos -= 1\n",
    "\n",
    "    if numero_ingresado > numero_por_adivinar:\n",
    "\n",
    "        print(f\"el numero secreto es menor, te quedan {intentos} intentos\")\n",
    "\n",
    "    elif numero_ingresado < numero_por_adivinar:\n",
    "\n",
    "        print(f\"el numero secreto es mayor, te quedan {intentos} intentos\")\n",
    "\n",
    "\n",
    "\n",
    "\n",
    "\n",
    "\n",
    "    if intentos == 0:\n",
    "        print(f\"Perdiste el numero era {numero_por_adivinar}\")\n",
    "        break\n",
    "\n",
    "\n"
   ]
  },
  {
   "cell_type": "code",
   "execution_count": 20,
   "id": "015a8f8b",
   "metadata": {},
   "outputs": [
    {
     "name": "stdout",
     "output_type": "stream",
     "text": [
      "Hola soy poliana y tengo 2 \n",
      "Hola soy milka y tengo 30 \n"
     ]
    }
   ],
   "source": [
    "# Challenge 3\n",
    " \n",
    "class Animal:\n",
    "    patas = 4\n",
    "    cuello = 1\n",
    "    cabeza = 1\n",
    "\n",
    "    def __init__(self, nombre, edad, tipo):\n",
    "        self.nombre = nombre\n",
    "        self.edad = edad\n",
    "        self.tipo = tipo\n",
    "\n",
    "        \n",
    "    def presentarse(self):\n",
    "        print(f\"Hola soy {self.nombre} y tengo {self.edad} \")\n",
    "\n",
    "\n",
    "milka = Animal(\"milka\", \"30\", \"gato\")\n",
    "poli = Animal(\"poliana\", \"2\", \"perro\")\n",
    "\n",
    "\n",
    "poli.presentarse()\n",
    "\n",
    "milka.presentarse()\n"
   ]
  },
  {
   "cell_type": "code",
   "execution_count": 19,
   "id": "1fec4c36",
   "metadata": {},
   "outputs": [
    {
     "name": "stdout",
     "output_type": "stream",
     "text": [
      "Es hora de  abrazar a flipper, el peluche de 2 metros! \n"
     ]
    }
   ],
   "source": [
    "# Challenge 4\n",
    "\n",
    "class Peluche:\n",
    "    tipo = \"felpa\"\n",
    "    cabeza = 1\n",
    "\n",
    "    def __init__(self, tamanho, nombre):\n",
    "        self.tamanho = tamanho\n",
    "        self.nombre = nombre\n",
    "\n",
    "    def abrazar(self):\n",
    "        print(f\"Es hora de  abrazar a {self.nombre}, el peluche de {self.tamanho}! \")\n",
    "    \n",
    "flipper = Peluche(\"2 metros\", \"flipper\")\n",
    "caucasio = Peluche(\"1 metro\", \"caucasio\")\n",
    "\n",
    "flipper.abrazar()\n"
   ]
  },
  {
   "cell_type": "code",
   "execution_count": 18,
   "id": "6a1d0093",
   "metadata": {},
   "outputs": [
    {
     "name": "stdout",
     "output_type": "stream",
     "text": [
      "7425\n"
     ]
    }
   ],
   "source": [
    "# Challenge 5\n",
    "lista_numero = [1,3,5,9,55]\n",
    "\n",
    "def multiplicar_lista():\n",
    "    multiplicacion = 1\n",
    "    for i in lista_numero:\n",
    "\n",
    "        multiplicacion = i * multiplicacion\n",
    "\n",
    "    print(multiplicacion)\n",
    "\n",
    "multiplicar_lista()  \n",
    "\n"
   ]
  },
  {
   "cell_type": "code",
   "execution_count": 20,
   "id": "e5aebdca",
   "metadata": {},
   "outputs": [
    {
     "name": "stdout",
     "output_type": "stream",
     "text": [
      "15\n"
     ]
    }
   ],
   "source": [
    "# Challenge 6\n",
    "\n",
    "def acumulador(n):\n",
    "    print((n * (n+1)) // 2)\n",
    "\n",
    "acumulador(int(input(\"ingrese un numero\")))\n"
   ]
  }
 ],
 "metadata": {
  "kernelspec": {
   "display_name": "Python 3",
   "language": "python",
   "name": "python3"
  },
  "language_info": {
   "codemirror_mode": {
    "name": "ipython",
    "version": 3
   },
   "file_extension": ".py",
   "mimetype": "text/x-python",
   "name": "python",
   "nbconvert_exporter": "python",
   "pygments_lexer": "ipython3",
   "version": "3.13.1"
  }
 },
 "nbformat": 4,
 "nbformat_minor": 5
}
